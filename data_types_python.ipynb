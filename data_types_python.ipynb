{
 "cells": [
  {
   "cell_type": "markdown",
   "id": "1b56e4a9",
   "metadata": {},
   "source": [
    "# **Data Types in Python**\n",
    "\n",
    "- Data types define the kind of value a variable holds and what operations can be performed on it. Python is dynamically typed, so you don’t need to declare data types explicitly, but understanding them is critical for correctness, performance, and readability."
   ]
  },
  {
   "cell_type": "markdown",
   "id": "77ac2aa0",
   "metadata": {
    "vscode": {
     "languageId": "plaintext"
    }
   },
   "source": [
    "# Built-in Data Types: "
   ]
  },
  {
   "cell_type": "markdown",
   "id": "8c141949",
   "metadata": {},
   "source": [
    "### 1.  **Integer (Whole Number)** \n",
    "- Integers are whole  numbers.\n",
    "- Functions are used: abs(), round(), int()"
   ]
  },
  {
   "cell_type": "code",
   "execution_count": 2,
   "id": "7ce13ee2",
   "metadata": {},
   "outputs": [
    {
     "data": {
      "text/plain": [
       "45"
      ]
     },
     "execution_count": 2,
     "metadata": {},
     "output_type": "execute_result"
    }
   ],
   "source": [
    "x = 45 \n",
    "x"
   ]
  },
  {
   "cell_type": "code",
   "execution_count": 3,
   "id": "a898a632",
   "metadata": {},
   "outputs": [
    {
     "name": "stdout",
     "output_type": "stream",
     "text": [
      "The absolute value of -10 is 10\n"
     ]
    }
   ],
   "source": [
    "# 1. abs() function is used to return the absolute value of a number\n",
    "num = -10\n",
    "print(\"The absolute value of\", num, \"is\", abs(num))"
   ]
  },
  {
   "cell_type": "code",
   "execution_count": 4,
   "id": "cdd8de2d",
   "metadata": {},
   "outputs": [
    {
     "name": "stdout",
     "output_type": "stream",
     "text": [
      "The rounded value of 3.6 is 3\n"
     ]
    }
   ],
   "source": [
    "# 2.  Rounding a float to nearest integer (returns int)\n",
    "num = 3.4\n",
    "num = round(num)\n",
    "print(\"The rounded value of 3.6 is\", num)"
   ]
  },
  {
   "cell_type": "code",
   "execution_count": 5,
   "id": "9282ace0",
   "metadata": {},
   "outputs": [
    {
     "name": "stdout",
     "output_type": "stream",
     "text": [
      "The integer value of 3.6 is 3\n"
     ]
    }
   ],
   "source": [
    "# 3. Converting other types to int \n",
    "float_num = 3.6\n",
    "int_num = int(float_num)\n",
    "print(\"The integer value of\", float_num, \"is\", int_num)"
   ]
  },
  {
   "cell_type": "code",
   "execution_count": 6,
   "id": "e5855e5f",
   "metadata": {},
   "outputs": [
    {
     "name": "stdout",
     "output_type": "stream",
     "text": [
      "10\n",
      "4\n",
      "21\n",
      "2\n",
      "1\n"
     ]
    }
   ],
   "source": [
    "# Arithmetic operations\n",
    "a = 7\n",
    "b = 3\n",
    "print(a + b)   # 10\n",
    "print(a - b)   # 4\n",
    "print(a * b)   # 21\n",
    "print(a // b)  # 2 (integer division)\n",
    "print(a % b)   # 1 (remainder)"
   ]
  },
  {
   "cell_type": "code",
   "execution_count": 7,
   "id": "7af0be5e",
   "metadata": {},
   "outputs": [
    {
     "name": "stdout",
     "output_type": "stream",
     "text": [
      "0\n",
      "1\n",
      "2\n",
      "3\n",
      "4\n"
     ]
    }
   ],
   "source": [
    "# range \n",
    "for i in range(5):\n",
    "    print(i)  # prints 0 1 2 3 4"
   ]
  },
  {
   "cell_type": "markdown",
   "id": "05481b0f",
   "metadata": {},
   "source": [
    "# 🧠 Key Notes:\n",
    "- int() can convert strings, floats, and booleans to integers.\n",
    "- int is immutable, so operations create new values, not change the original.\n",
    "In Python, integers automatically expand to big numbers if needed (no overflow like in some other languages)."
   ]
  },
  {
   "cell_type": "markdown",
   "id": "4be61171",
   "metadata": {},
   "source": [
    "### **2. Float(Decimal Number)**"
   ]
  },
  {
   "cell_type": "code",
   "execution_count": 8,
   "id": "995e4981",
   "metadata": {},
   "outputs": [
    {
     "data": {
      "text/plain": [
       "3.6"
      ]
     },
     "execution_count": 8,
     "metadata": {},
     "output_type": "execute_result"
    }
   ],
   "source": [
    "float_num = 3.6\n",
    "float_num"
   ]
  },
  {
   "cell_type": "code",
   "execution_count": 9,
   "id": "00bcaf35",
   "metadata": {},
   "outputs": [
    {
     "name": "stdout",
     "output_type": "stream",
     "text": [
      "The rounded value of 3.4 is 3\n"
     ]
    }
   ],
   "source": [
    "# Rounding a float to nearest integer (returns int)\n",
    "float_num = 3.4\n",
    "print(\"The rounded value of 3.4 is\", round(float_num))"
   ]
  },
  {
   "cell_type": "code",
   "execution_count": 10,
   "id": "97a8861f",
   "metadata": {},
   "outputs": [
    {
     "name": "stdout",
     "output_type": "stream",
     "text": [
      "The integer value of 3.6 is 3\n"
     ]
    }
   ],
   "source": [
    "# converting other types to int\n",
    "float_num = 3.6\n",
    "int_num = int(float_num)\n",
    "print(\"The integer value of\", float_num, \"is\", int_num)"
   ]
  },
  {
   "cell_type": "code",
   "execution_count": 11,
   "id": "e3795acb",
   "metadata": {},
   "outputs": [
    {
     "name": "stdout",
     "output_type": "stream",
     "text": [
      "7.7\n",
      "3.3\n",
      "12.100000000000001\n",
      "2.0\n",
      "1.0999999999999996\n",
      "2.5\n"
     ]
    }
   ],
   "source": [
    "# Arithmetic operations\n",
    "a = 5.5\n",
    "b = 2.2\n",
    "print(a + b)   # 7.7\n",
    "print(a - b)   # 3.3\n",
    "print(a * b)   # 12.1\n",
    "print(a // b)  # 2.0 (integer division)\n",
    "print(a % b)   # 1.1 (remainder)\n",
    "print(a/b)   # 2.5 (float division)"
   ]
  },
  {
   "cell_type": "markdown",
   "id": "1bf60c5d",
   "metadata": {},
   "source": [
    "# Key Notes:\n",
    "\n",
    "- float() can convert integers and strings (if properly formatted) to floats.\n",
    "- Floating-point numbers represent decimal values but have limited precision (can cause rounding errors).\n",
    "- Floats are immutable.\n",
    "- Division of integers with / always returns a float."
   ]
  },
  {
   "cell_type": "markdown",
   "id": "154ce8bb",
   "metadata": {},
   "source": [
    "### 3. String"
   ]
  },
  {
   "cell_type": "code",
   "execution_count": 12,
   "id": "6cddc43a",
   "metadata": {},
   "outputs": [
    {
     "name": "stdout",
     "output_type": "stream",
     "text": [
      "Hello, Alice!\n"
     ]
    }
   ],
   "source": [
    "# String formatting using f-strings\n",
    "name = \"Alice\"\n",
    "greeting = \"Hello\"\n",
    "\n",
    "# concatenation\n",
    "message = f\"{greeting}, {name}!\"\n",
    "message = greeting + \", \" + name + \"!\" # another way to format strings\n",
    "print(message)  # Hello, Alice!\n"
   ]
  },
  {
   "cell_type": "code",
   "execution_count": 13,
   "id": "22d919e1",
   "metadata": {},
   "outputs": [
    {
     "name": "stdout",
     "output_type": "stream",
     "text": [
      "ALICE\n",
      "alice\n",
      "Blice\n"
     ]
    }
   ],
   "source": [
    "# string methods \n",
    "print(name.upper())  # ALICE\n",
    "print(name.lower())  # alice    \n",
    "print(name.replace(\"A\", \"B\"))  # Blice"
   ]
  },
  {
   "cell_type": "code",
   "execution_count": 14,
   "id": "ef078d5c",
   "metadata": {},
   "outputs": [
    {
     "name": "stdout",
     "output_type": "stream",
     "text": [
      "['Hello', 'World']\n",
      "Hello World\n"
     ]
    }
   ],
   "source": [
    "# spliting and joining strings\n",
    "words = \"Hello World\".split()  # splits into a list of words\n",
    "print(words)  # ['Hello', 'World']\n",
    "# joined = \" \".join(words)  # joins the list back into a string\n",
    "sentence = \" \".join(words)\n",
    "print(sentence)  # Hello World"
   ]
  },
  {
   "cell_type": "code",
   "execution_count": 15,
   "id": "4c039f65",
   "metadata": {},
   "outputs": [
    {
     "name": "stdout",
     "output_type": "stream",
     "text": [
      "A\n",
      "e\n",
      "lic\n"
     ]
    }
   ],
   "source": [
    "#  string indexing and slicing \n",
    "print(name[0])  # A (first character)\n",
    "print(name[-1])  # e (last character)\n",
    "print(name[1:4])  # lic (characters from index 1 to 3)"
   ]
  },
  {
   "cell_type": "markdown",
   "id": "33e208a3",
   "metadata": {},
   "source": [
    "### Key Notes:\n",
    "\n",
    "- Strings are sequences of Unicode characters and are immutable.\n",
    "- Can be created with single, double, or triple quotes for multi-line.\n",
    "- Powerful built-in methods exist for manipulation, search, and formatting.\n",
    "- Supports indexing and slicing like lists."
   ]
  },
  {
   "cell_type": "markdown",
   "id": "33f59f49",
   "metadata": {},
   "source": [
    "# LIST\n",
    "\n",
    "- Lists are ordered, mutable sequences (can change after creation).\n",
    "- start with [ ] braces\n",
    "- Support indexing, slicing, appending, removing, sorting, and more.\n",
    "- Can hold mixed data types (e.g., [1, \"text\", True]).\n",
    "- Use list() to convert from tuples, strings, etc.\n",
    "- List methods: .append(), .pop(), .remove(), .sort(), .reverse()"
   ]
  },
  {
   "cell_type": "code",
   "execution_count": 16,
   "id": "21e3a4f9",
   "metadata": {},
   "outputs": [
    {
     "name": "stdout",
     "output_type": "stream",
     "text": [
      "4\n"
     ]
    }
   ],
   "source": [
    "# list operation and accessing elements\n",
    "list = [1, 2, 3, 4]\n",
    "print(list[3])  # 1 (first element)"
   ]
  },
  {
   "cell_type": "code",
   "execution_count": 17,
   "id": "42ba176c",
   "metadata": {},
   "outputs": [
    {
     "name": "stdout",
     "output_type": "stream",
     "text": [
      "[1, 2, 3, 4, 5]\n"
     ]
    }
   ],
   "source": [
    "# Adding elements to a list\n",
    "list.append(5)  # adds 6 to the end of the list\n",
    "print(list)  # [1, 2, 3, 4, 5, 6]"
   ]
  },
  {
   "cell_type": "code",
   "execution_count": 18,
   "id": "f62459b4",
   "metadata": {},
   "outputs": [
    {
     "name": "stdout",
     "output_type": "stream",
     "text": [
      "[1, 2, 3, 4]\n"
     ]
    }
   ],
   "source": [
    "# Removing elemetent from a list\n",
    "list.pop()  # removes the first occurrence of 3\n",
    "print(list)  # [1, 2, 4, 5, 6]"
   ]
  },
  {
   "cell_type": "code",
   "execution_count": 19,
   "id": "77179f59",
   "metadata": {},
   "outputs": [
    {
     "name": "stdout",
     "output_type": "stream",
     "text": [
      "[10, 2, 3, 4]\n"
     ]
    }
   ],
   "source": [
    "# modifying elements in a list\n",
    "list[0] = 10  # changes the first element to 10\n",
    "print(list)  # [10, 2, 4, 5, 6]"
   ]
  },
  {
   "cell_type": "code",
   "execution_count": 20,
   "id": "e657e0d4",
   "metadata": {},
   "outputs": [
    {
     "name": "stdout",
     "output_type": "stream",
     "text": [
      "[2, 3, 4, 10]\n"
     ]
    }
   ],
   "source": [
    "# sorting a list\n",
    "list.sort()  # sorts the list in ascending order\n",
    "print(list)  # [2, 4, 5, 6, 10]"
   ]
  },
  {
   "cell_type": "code",
   "execution_count": 21,
   "id": "8bf57a89",
   "metadata": {},
   "outputs": [
    {
     "name": "stdout",
     "output_type": "stream",
     "text": [
      "2\n",
      "3\n",
      "4\n",
      "10\n"
     ]
    }
   ],
   "source": [
    "# iterating through a list\n",
    "for num in list:\n",
    "    print(num)  # prints each item in the list"
   ]
  },
  {
   "cell_type": "markdown",
   "id": "22fa7051",
   "metadata": {},
   "source": [
    "### Tuple\n",
    "\n",
    "- Tuples are ordered and immutable sequences. start with () braces\n",
    "- Use for data that shouldn’t change (e.g., coordinates, settings).\n",
    "- Support indexing and slicing.\n",
    "- More memory efficient than lists.\n",
    "- Can unpack directly into variables."
   ]
  },
  {
   "cell_type": "code",
   "execution_count": 22,
   "id": "05fece0a",
   "metadata": {},
   "outputs": [
    {
     "data": {
      "text/plain": [
       "(10, 20)"
      ]
     },
     "execution_count": 22,
     "metadata": {},
     "output_type": "execute_result"
    }
   ],
   "source": [
    "#  Creating a tuple\n",
    "coordinates = (10, 20)\n",
    "coordinates\n"
   ]
  },
  {
   "cell_type": "code",
   "execution_count": 23,
   "id": "ec1983ba",
   "metadata": {},
   "outputs": [
    {
     "name": "stdout",
     "output_type": "stream",
     "text": [
      "10\n",
      "20\n"
     ]
    }
   ],
   "source": [
    "# Access elements like a list\n",
    "print(coordinates[0])  # Output: 10\n",
    "print(coordinates[1])  # Output: 20"
   ]
  },
  {
   "cell_type": "code",
   "execution_count": 24,
   "id": "fd778101",
   "metadata": {},
   "outputs": [
    {
     "ename": "TypeError",
     "evalue": "'tuple' object does not support item assignment",
     "output_type": "error",
     "traceback": [
      "\u001b[1;31m---------------------------------------------------------------------------\u001b[0m",
      "\u001b[1;31mTypeError\u001b[0m                                 Traceback (most recent call last)",
      "Cell \u001b[1;32mIn[24], line 2\u001b[0m\n\u001b[0;32m      1\u001b[0m \u001b[38;5;66;03m# Cannot modify (immutable)\u001b[39;00m\n\u001b[1;32m----> 2\u001b[0m \u001b[43mcoordinates\u001b[49m\u001b[43m[\u001b[49m\u001b[38;5;241;43m0\u001b[39;49m\u001b[43m]\u001b[49m \u001b[38;5;241m=\u001b[39m \u001b[38;5;241m30\u001b[39m  \u001b[38;5;66;03m# ❌ Error\u001b[39;00m\n",
      "\u001b[1;31mTypeError\u001b[0m: 'tuple' object does not support item assignment"
     ]
    }
   ],
   "source": [
    "# Cannot modify (immutable)\n",
    "coordinates[0] = 30  # ❌ Error\n"
   ]
  },
  {
   "cell_type": "code",
   "execution_count": 25,
   "id": "0c13adae",
   "metadata": {},
   "outputs": [
    {
     "data": {
      "text/plain": [
       "('Alice', 30)"
      ]
     },
     "execution_count": 25,
     "metadata": {},
     "output_type": "execute_result"
    }
   ],
   "source": [
    "#  Useful for fixed data\n",
    "person = (\"Alice\", 30)\n",
    "person"
   ]
  },
  {
   "cell_type": "code",
   "execution_count": 26,
   "id": "6ce8bc48",
   "metadata": {},
   "outputs": [
    {
     "name": "stdout",
     "output_type": "stream",
     "text": [
      "Alice 30\n"
     ]
    }
   ],
   "source": [
    "# unpack tuples\n",
    "name, age = person\n",
    "print(name, age)  # Output: Alice 30"
   ]
  },
  {
   "cell_type": "markdown",
   "id": "aa4df5c5",
   "metadata": {},
   "source": [
    "### Dictionary\n",
    "\n",
    "- Dictionaries are unordered (but ordered in Python 3.7+), mutable collections of key-value pairs. start with {} braces\n",
    "- Keys must be immutable (e.g., strings, numbers, tuples).\n",
    "- Values can be any type.\n",
    "- Common methods: .get(), .items(), .keys(), .values(), .pop(), .update()\n",
    "- Fast lookups and updates; ideal for structured data"
   ]
  },
  {
   "cell_type": "code",
   "execution_count": 27,
   "id": "ee18cf42",
   "metadata": {},
   "outputs": [
    {
     "data": {
      "text/plain": [
       "{'name': 'Alice', 'age': 30}"
      ]
     },
     "execution_count": 27,
     "metadata": {},
     "output_type": "execute_result"
    }
   ],
   "source": [
    "# Creating a dictionary\n",
    "person = {\"name\": \"Alice\", \"age\": 30}\n",
    "person"
   ]
  },
  {
   "cell_type": "code",
   "execution_count": 28,
   "id": "8969764e",
   "metadata": {},
   "outputs": [
    {
     "name": "stdout",
     "output_type": "stream",
     "text": [
      "Alice\n",
      "30\n"
     ]
    }
   ],
   "source": [
    "# Accessing values\n",
    "print(person[\"name\"])  # Output: Alice\n",
    "print(person[\"age\"])   # Output: 30"
   ]
  },
  {
   "cell_type": "code",
   "execution_count": 29,
   "id": "352e7ed8",
   "metadata": {},
   "outputs": [
    {
     "name": "stdout",
     "output_type": "stream",
     "text": [
      "Unknown\n"
     ]
    }
   ],
   "source": [
    "# Using .get() (safe way to access keys)\n",
    "print(person.get(\"city\", \"Unknown\"))  # Output: Unknown"
   ]
  },
  {
   "cell_type": "code",
   "execution_count": 30,
   "id": "3997f712",
   "metadata": {},
   "outputs": [
    {
     "name": "stdout",
     "output_type": "stream",
     "text": [
      "{'name': 'Alice', 'age': 30, 'city': 'UK'}\n"
     ]
    }
   ],
   "source": [
    "# Adding/updating values\n",
    "person[\"city\"] = \"UK\"\n",
    "print(person)"
   ]
  },
  {
   "cell_type": "code",
   "execution_count": 31,
   "id": "667627a7",
   "metadata": {},
   "outputs": [
    {
     "name": "stdout",
     "output_type": "stream",
     "text": [
      "name Alice\n",
      "age 30\n",
      "city UK\n"
     ]
    }
   ],
   "source": [
    "# Iterating through keys and values\n",
    "for key, value in person.items():\n",
    "    print(key, value)"
   ]
  },
  {
   "cell_type": "code",
   "execution_count": 32,
   "id": "7651b81a",
   "metadata": {},
   "outputs": [
    {
     "name": "stdout",
     "output_type": "stream",
     "text": [
      "{'name': 'Alice', 'city': 'UK'}\n"
     ]
    }
   ],
   "source": [
    "# Removing a key\n",
    "person.pop(\"age\")\n",
    "print(person)"
   ]
  },
  {
   "cell_type": "markdown",
   "id": "aff33315",
   "metadata": {},
   "source": [
    "### Set\n",
    "\n",
    "- start with {} braces\n",
    "- Sets are unordered, mutable collections of unique elements.\n",
    "- No duplicate values allowed.\n",
    "- Commonly used for membership tests, eliminating duplicates, and set math.\n",
    "- Operations: .add(), .remove(), .union(), .intersection(), .difference()"
   ]
  },
  {
   "cell_type": "code",
   "execution_count": 33,
   "id": "fbab2c5b",
   "metadata": {},
   "outputs": [
    {
     "name": "stdout",
     "output_type": "stream",
     "text": [
      "{'banana', 'apple'}\n"
     ]
    }
   ],
   "source": [
    "# Creating a set (removes duplicates automatically)\n",
    "fruits = {\"apple\", \"banana\", \"apple\"}\n",
    "print(fruits)  # Output: {'apple', 'banana'}"
   ]
  },
  {
   "cell_type": "code",
   "execution_count": 34,
   "id": "dfa1987b",
   "metadata": {},
   "outputs": [
    {
     "name": "stdout",
     "output_type": "stream",
     "text": [
      "{'orange', 'banana', 'apple'}\n"
     ]
    }
   ],
   "source": [
    "# Adding elements\n",
    "fruits.add(\"orange\")\n",
    "print(fruits)"
   ]
  },
  {
   "cell_type": "code",
   "execution_count": 35,
   "id": "475a1a86",
   "metadata": {},
   "outputs": [
    {
     "name": "stdout",
     "output_type": "stream",
     "text": [
      "{'orange', 'apple'}\n"
     ]
    }
   ],
   "source": [
    "#  Removing elements\n",
    "fruits.remove(\"banana\")\n",
    "print(fruits)"
   ]
  },
  {
   "cell_type": "code",
   "execution_count": 42,
   "id": "82d8813c",
   "metadata": {},
   "outputs": [
    {
     "name": "stdout",
     "output_type": "stream",
     "text": [
      "{1, 2, 3, 4, 5}\n"
     ]
    }
   ],
   "source": [
    "#  Set operations\n",
    "a = {1, 2, 3}\n",
    "b = {3, 4, 5}\n",
    "\n",
    "print(a.union(b))        # {1, 2, 3, 4, 5} # adds all elements from both sets\n"
   ]
  },
  {
   "cell_type": "code",
   "execution_count": 43,
   "id": "712cf5ce",
   "metadata": {},
   "outputs": [
    {
     "name": "stdout",
     "output_type": "stream",
     "text": [
      "{3}\n"
     ]
    }
   ],
   "source": [
    "print(a.intersection(b)) # {3} # shows common elements in both sets"
   ]
  },
  {
   "cell_type": "code",
   "execution_count": 44,
   "id": "0895d829",
   "metadata": {},
   "outputs": [
    {
     "name": "stdout",
     "output_type": "stream",
     "text": [
      "{1, 2}\n"
     ]
    }
   ],
   "source": [
    "print(a.difference(b))   # {1, 2} # elements in a that are not in b"
   ]
  },
  {
   "cell_type": "code",
   "execution_count": 49,
   "id": "5c4b17af",
   "metadata": {},
   "outputs": [
    {
     "name": "stdout",
     "output_type": "stream",
     "text": [
      "{40, 30}\n",
      "{40, 10, 50, 20, 60, 30}\n",
      "{10, 20}\n",
      "{50, 60}\n",
      "{10, 50, 20, 60}\n"
     ]
    }
   ],
   "source": [
    "# an other method to find difference in sets\n",
    "x = {10, 20, 30, 40}\n",
    "y = {30, 40, 50, 60}\n",
    "\n",
    "# Try these:\n",
    "print(x & y)  # {30, 40} Intersection with '&' operator (elements in both sets)\n",
    "print(x | y)  # {10, 20, 30, 40, 50, 60} Union with '|' operator (all unique elements)\n",
    "print(x - y)  # {10, 20} Elements in x that are not in y\n",
    "print(y - x)  # {50, 60} Elements in y that are not in x\n",
    "print(x ^ y)  # {10, 20, 50, 60} Symmetric difference"
   ]
  }
 ],
 "metadata": {
  "kernelspec": {
   "display_name": "eda_env",
   "language": "python",
   "name": "python3"
  },
  "language_info": {
   "codemirror_mode": {
    "name": "ipython",
    "version": 3
   },
   "file_extension": ".py",
   "mimetype": "text/x-python",
   "name": "python",
   "nbconvert_exporter": "python",
   "pygments_lexer": "ipython3",
   "version": "3.10.16"
  }
 },
 "nbformat": 4,
 "nbformat_minor": 5
}
