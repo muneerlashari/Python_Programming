{
 "cells": [
  {
   "cell_type": "markdown",
   "id": "e681369e",
   "metadata": {},
   "source": [
    "# **Python**"
   ]
  },
  {
   "cell_type": "markdown",
   "id": "446ee1fc",
   "metadata": {},
   "source": [
    "# Variables: "
   ]
  },
  {
   "cell_type": "markdown",
   "id": "ff6c10e3",
   "metadata": {},
   "source": [
    "# Complete Overview\n",
    "\n",
    "A **variable** in Python is a named container used to store data values in memory. Variables allow you to label and manipulate data throughout your program.\n",
    "\n",
    "**Naming Rules:**\n",
    "\n",
    "* Variable names must start with a letter (a–z, A–Z) or underscore (\\_).\n",
    "* Names can include letters, digits (0–9), and underscores, but no spaces.\n",
    "* Variable names are case-sensitive (e.g., `data` ≠ `Data`).\n",
    "* Names cannot be Python reserved keywords (like `if`, `for`, `class`).\n",
    "\n",
    "**Assignment:**\n",
    "\n",
    "* Use the `=` operator to assign values, e.g., `x = 10`.\n",
    "* Python uses dynamic typing, so you don’t declare variable types explicitly.\n",
    "* Variables can be reassigned to values of different types, e.g., `x = \"Hello\"`.\n",
    "\n",
    "**Multiple Assignment:**\n",
    "\n",
    "* You can assign multiple variables simultaneously: `a, b, c = 1, 2, 3`.\n",
    "* Or assign the same value to multiple variables: `x = y = z = 0`.\n",
    "\n",
    "**Data Types:**\n",
    "\n",
    "* Variables can hold any data type, including integers, floats, strings, booleans, lists, dictionaries, etc.\n",
    "* Python automatically infers the type when you assign a value.\n",
    "\n",
    "**Constants:**\n",
    "\n",
    "* Constants are variables meant to remain unchanged.\n",
    "* By convention, write constants in all uppercase letters, e.g., `PI = 3.14`.\n",
    "* Python doesn’t enforce constants; this is a coding convention.\n",
    "\n",
    "**Printing and Using Variables:**\n",
    "\n",
    "* Use `print()` to display variables, e.g., `print(x)`.\n",
    "* Variables can be combined with strings using commas or formatted strings (`f\"Value: {x}\"`).\n",
    "\n",
    "**Deleting Variables:**\n",
    "\n",
    "* Use `del` to remove a variable from memory, e.g., `del x`.\n",
    "* After deletion, accessing the variable will cause an error.\n",
    "\n",
    "**Scope:**\n",
    "\n",
    "* Variables defined outside functions are **global**.\n",
    "* Variables inside functions are **local** to that function.\n",
    "* To modify a global variable inside a function, use the `global` keyword.\n",
    "\n",
    "**Type Conversion (Casting):**\n",
    "\n",
    "* Convert variables between types using functions like `int()`, `float()`, `str()`, and `bool()`.\n",
    "* Example: `x = int(\"5\")` converts the string `\"5\"` to integer `5`.\n",
    "\n",
    "**Best Practices:**\n",
    "\n",
    "* Choose clear, descriptive variable names using snake\\_case (e.g., `user_name`).\n",
    "* Avoid overly short or ambiguous names except for simple counters like `i` or `n`.\n",
    "* Add comments if the variable’s purpose isn’t obvious."
   ]
  },
  {
   "cell_type": "markdown",
   "id": "24123731",
   "metadata": {},
   "source": [
    "# 1. Basic "
   ]
  },
  {
   "cell_type": "code",
   "execution_count": null,
   "id": "e209c8c2",
   "metadata": {},
   "outputs": [
    {
     "name": "stdout",
     "output_type": "stream",
     "text": [
      "Ali\n",
      "21\n",
      "5.8\n"
     ]
    }
   ],
   "source": [
    "name = \"Ali\"       # 'name' is a variable and \"Ali\" is a string value stored in it\n",
    "age = 21           # 'age' is a variable and 21 is a number stored in it\n",
    "height = 5.8       # 'height' is a variable and 5.8 is a decimal (float) value stored in it\n",
    "\n",
    "print(name)        # Output: Ali (string)\n",
    "print(age)         # Output: 21 (integer)\n",
    "print(height)      # Output: 5.8 (float)"
   ]
  },
  {
   "cell_type": "code",
   "execution_count": 8,
   "id": "228c823b",
   "metadata": {},
   "outputs": [
    {
     "name": "stdout",
     "output_type": "stream",
     "text": [
      "Hello, Ali! You are 21 years old and 5.8 feet tall.\n"
     ]
    }
   ],
   "source": [
    "\n",
    "# Using variables in a sentence\n",
    "print(\"Hello, \" + name + \"! You are \" + str(age) + \" years old and \" + str(height) + \" feet tall.\")\n",
    "# output: The output is a greeting message that includes the values of the variables 'name', 'age', and 'height'."
   ]
  },
  {
   "cell_type": "markdown",
   "id": "16cef2c0",
   "metadata": {},
   "source": [
    "# 2. Variable + Expression "
   ]
  },
  {
   "cell_type": "code",
   "execution_count": null,
   "id": "48cf814d",
   "metadata": {},
   "outputs": [
    {
     "name": "stdout",
     "output_type": "stream",
     "text": [
      "30\n"
     ]
    }
   ],
   "source": [
    "a = 10\n",
    "b = 20\n",
    "sum = a + b         # Adding two numbers and storing the result in 'sum' \n",
    "print(sum)          # Output: 30 (integer)"
   ]
  },
  {
   "cell_type": "markdown",
   "id": "52550790",
   "metadata": {},
   "source": [
    "# 3. Combining /  Concatenating string with symbols  "
   ]
  },
  {
   "cell_type": "code",
   "execution_count": 3,
   "id": "7f4c45c0",
   "metadata": {},
   "outputs": [
    {
     "name": "stdout",
     "output_type": "stream",
     "text": [
      "Alex ❤️ Sara\n"
     ]
    }
   ],
   "source": [
    "name_1 = \"Alex\"\n",
    "name_2 = \"Sara\"\n",
    "result = name_1 + \" ❤️ \" + name_2   # Joins the strings with a heart in between\n",
    "\n",
    "print(result)                       # Output: Alex ❤️ Sara\n"
   ]
  },
  {
   "cell_type": "markdown",
   "id": "16c8a243",
   "metadata": {},
   "source": [
    "# 4. Assigning multiple variables in one line"
   ]
  },
  {
   "cell_type": "code",
   "execution_count": 6,
   "id": "8a3eed48",
   "metadata": {},
   "outputs": [
    {
     "name": "stdout",
     "output_type": "stream",
     "text": [
      "1 2 3\n",
      "300\n",
      "Good Morning\n"
     ]
    }
   ],
   "source": [
    "# Assigning values \n",
    "x, y, z = 1, 2, 3  # Multiple assignment in one line\n",
    "print(x, y, z)      # Output: 1 2 3\n",
    "\n",
    "# Adding values\n",
    "x, y = 100, 200\n",
    "print(x + y)         # Output: 300\n",
    "\n",
    "# Concatenating strings\n",
    "first = \"Good\"\n",
    "second = \"Morning\"\n",
    "greeting = first + \" \" + second\n",
    "print(greeting)      # Output: Good Morning"
   ]
  },
  {
   "cell_type": "markdown",
   "id": "77e78489",
   "metadata": {},
   "source": [
    "# 5. Use meaningful Names Variables "
   ]
  },
  {
   "cell_type": "code",
   "execution_count": 10,
   "id": "27f30cd4",
   "metadata": {},
   "outputs": [
    {
     "name": "stdout",
     "output_type": "stream",
     "text": [
      "Student Name: John, Marks: 180\n"
     ]
    }
   ],
   "source": [
    "student_name = \"John\"\n",
    "student_marks = 180\n",
    "# Using variables in a sentence\n",
    "print(\"Student Name: \" + student_name + \", Marks: \" + str(student_marks))\n"
   ]
  },
  {
   "cell_type": "markdown",
   "id": "8cd30d50",
   "metadata": {},
   "source": [
    "- Aviod confusing names\n",
    "- Example: 1name, @age \n",
    "- Tip: use snake_case is better for readability, \n",
    "- snakecase means lowercase\n",
    "- camelcase means uppercase "
   ]
  },
  {
   "cell_type": "markdown",
   "id": "c3680a0b",
   "metadata": {},
   "source": [
    "# 6. Slicing Variables (Strings)\n",
    "  "
   ]
  },
  {
   "cell_type": "markdown",
   "id": "5ea14e24",
   "metadata": {},
   "source": [
    "- python start indexing form 0 to onward"
   ]
  },
  {
   "cell_type": "code",
   "execution_count": 11,
   "id": "c713fcae",
   "metadata": {},
   "outputs": [
    {
     "name": "stdout",
     "output_type": "stream",
     "text": [
      "Alex\n",
      "Alex\n",
      "ander\n",
      "der\n"
     ]
    }
   ],
   "source": [
    "# You can extract parts of a string using slicing\n",
    "name = \"Alexander\"\n",
    "\n",
    "print(name[0:4])     # Output: Alex  → from index 0 to 3 (4 not included)\n",
    "print(name[:4])      # Output: Alex  → same as above (starts from beginning)\n",
    "print(name[4:])      # Output: ander → from index 4 to end\n",
    "print(name[-3:])     # Output: der   → last 3 characters\n"
   ]
  },
  {
   "cell_type": "markdown",
   "id": "9e2c1e73",
   "metadata": {},
   "source": [
    "# 7. Practice Slicing Variables"
   ]
  },
  {
   "cell_type": "code",
   "execution_count": 12,
   "id": "40c12a40",
   "metadata": {},
   "outputs": [
    {
     "name": "stdout",
     "output_type": "stream",
     "text": [
      "Python\n",
      "IsFun\n",
      "Fun\n"
     ]
    }
   ],
   "source": [
    "# This script demonstrates the use of variables in Python\n",
    "message = \"PythonIsFun\"\n",
    "\n",
    "print(message[0:6])   # Output: Python\n",
    "print(message[6:])    # Output: IsFun\n",
    "print(message[-3:])   # Output: Fun\n"
   ]
  },
  {
   "cell_type": "markdown",
   "id": "d85c5fbd",
   "metadata": {},
   "source": [
    "# 8. Variable Thought Experiment"
   ]
  },
  {
   "cell_type": "code",
   "execution_count": null,
   "id": "334790f3",
   "metadata": {},
   "outputs": [
    {
     "name": "stdout",
     "output_type": "stream",
     "text": [
      "Zara\n"
     ]
    }
   ],
   "source": [
    "# This script shows how variables work in Python\n",
    "# You can change the value of a variable at any time\n",
    "\n",
    "student = \"Ali\"       # student holds the value \"Ali\"\n",
    "student = \"Zara\"      # now student holds \"Zara\" instead\n",
    "print(student)        # This will print: Zara due to the overwrite.\n",
    "                      # python will consider the last assigned value"
   ]
  },
  {
   "cell_type": "markdown",
   "id": "c8c6faa5",
   "metadata": {},
   "source": [
    "# 9. Case Sensitive "
   ]
  },
  {
   "cell_type": "code",
   "execution_count": 1,
   "id": "1f8e908a",
   "metadata": {},
   "outputs": [
    {
     "name": "stdout",
     "output_type": "stream",
     "text": [
      "21\n",
      "30\n"
     ]
    }
   ],
   "source": [
    "# Python is case-sensitive\n",
    "age = 21\n",
    "Age = 30\n",
    "print(age)  # Output: 21\n",
    "print(Age)  # Output: 30"
   ]
  },
  {
   "cell_type": "markdown",
   "id": "fe897b7c",
   "metadata": {},
   "source": [
    "# 10 . Using Type() function"
   ]
  },
  {
   "cell_type": "code",
   "execution_count": 2,
   "id": "0b182dd4",
   "metadata": {},
   "outputs": [
    {
     "name": "stdout",
     "output_type": "stream",
     "text": [
      "<class 'str'>\n",
      "<class 'int'>\n",
      "<class 'float'>\n",
      "<class 'bool'>\n"
     ]
    }
   ],
   "source": [
    "name = \"Ali\"\n",
    "age = 21\n",
    "height = 5.8\n",
    "is_student = True\n",
    "\n",
    "print(type(name))       # <class 'str'>\n",
    "print(type(age))        # <class 'int'>\n",
    "print(type(height))     # <class 'float'>\n",
    "print(type(is_student)) # <class 'bool'>\n"
   ]
  },
  {
   "cell_type": "markdown",
   "id": "29914e7c",
   "metadata": {},
   "source": [
    "# 11. Swapping / Exchanging Varibale Values"
   ]
  },
  {
   "cell_type": "code",
   "execution_count": 4,
   "id": "8f09ea91",
   "metadata": {},
   "outputs": [
    {
     "name": "stdout",
     "output_type": "stream",
     "text": [
      "10\n",
      "5\n"
     ]
    }
   ],
   "source": [
    "a = 5\n",
    "b = 10\n",
    "\n",
    "a, b = b, a # Swapping values of a and b\n",
    "\n",
    "print(a)  # Output: 10\n",
    "print(b)  # Output: 5\n"
   ]
  },
  {
   "cell_type": "markdown",
   "id": "30f08467",
   "metadata": {},
   "source": [
    "# 12. Multiple Assignment"
   ]
  },
  {
   "cell_type": "code",
   "execution_count": 5,
   "id": "9d54a7c8",
   "metadata": {},
   "outputs": [
    {
     "name": "stdout",
     "output_type": "stream",
     "text": [
      "1 2 3\n",
      "0 0 0\n"
     ]
    }
   ],
   "source": [
    "a, b, c = 1, 2, 3\n",
    "print(a, b, c)    # 1 2 3\n",
    "\n",
    "x = y = z = 0\n",
    "print(x, y, z)    # 0 0 0"
   ]
  },
  {
   "cell_type": "markdown",
   "id": "ac7b1029",
   "metadata": {},
   "source": [
    "# 13. Reassignment and Dynamic Typing"
   ]
  },
  {
   "cell_type": "code",
   "execution_count": 6,
   "id": "f0605195",
   "metadata": {},
   "outputs": [
    {
     "name": "stdout",
     "output_type": "stream",
     "text": [
      "5\n",
      "Hello\n"
     ]
    }
   ],
   "source": [
    "x = 5\n",
    "print(x)    # 5\n",
    "\n",
    "x = \"Hello\"\n",
    "print(x)    # Hello\n"
   ]
  },
  {
   "cell_type": "markdown",
   "id": "b461aac3",
   "metadata": {},
   "source": [
    "# 14. Printing Variables:"
   ]
  },
  {
   "cell_type": "code",
   "execution_count": 7,
   "id": "03039cbe",
   "metadata": {},
   "outputs": [
    {
     "name": "stdout",
     "output_type": "stream",
     "text": [
      "Value of x is 10\n",
      "Value of x is 10\n"
     ]
    }
   ],
   "source": [
    "x = 10\n",
    "print(\"Value of x is\", x)\n",
    "print(f\"Value of x is {x}\")   # Using f-string formatting\n"
   ]
  },
  {
   "cell_type": "markdown",
   "id": "e52d7f21",
   "metadata": {},
   "source": [
    "# 15. Variable Scope:"
   ]
  },
  {
   "cell_type": "code",
   "execution_count": 10,
   "id": "f3991faf",
   "metadata": {},
   "outputs": [
    {
     "name": "stdout",
     "output_type": "stream",
     "text": [
      "I'm global\n",
      "I'm local\n"
     ]
    }
   ],
   "source": [
    "# Golbal and local variables in Python,\n",
    "global_var = \"I'm global\" # This is a global variable\n",
    "\n",
    "def my_func():          # Function definition\n",
    "    local_var = \"I'm local\" # This is a local variable\n",
    "    print(global_var)   # Can access global variable inside function\n",
    "    print(local_var)    # Local variable accessible here\n",
    "\n",
    "my_func() # Calling the function"
   ]
  },
  {
   "cell_type": "markdown",
   "id": "11f7060e",
   "metadata": {},
   "source": [
    "# 16. Type Conversion (Casting):"
   ]
  },
  {
   "cell_type": "code",
   "execution_count": 11,
   "id": "4af96420",
   "metadata": {},
   "outputs": [
    {
     "name": "stdout",
     "output_type": "stream",
     "text": [
      "124\n",
      "3.14\n",
      "False\n"
     ]
    }
   ],
   "source": [
    "x = \"123\"\n",
    "y = int(x)        # Convert string to integer\n",
    "print(y + 1)      # 124\n",
    "\n",
    "z = float(\"3.14\")\n",
    "print(z)          # 3.14\n",
    "\n",
    "b = bool(0)\n",
    "print(b)          # False\n"
   ]
  },
  {
   "cell_type": "markdown",
   "id": "dfb9ceee",
   "metadata": {},
   "source": [
    "# 17.  Length function()"
   ]
  },
  {
   "cell_type": "code",
   "execution_count": 13,
   "id": "957c7655",
   "metadata": {},
   "outputs": [
    {
     "name": "stdout",
     "output_type": "stream",
     "text": [
      "Love score: 49 %\n"
     ]
    }
   ],
   "source": [
    "name1 = \"Alex\" #  This is a string variable\n",
    "name2 = \"Sam\" #  This is another string variable\n",
    "love_score = len(name1 + name2) # Calculate the love score based on the length of the combined names\n",
    "print(\"Love score:\", love_score * 7, \"%\") # # Output the love score multiplied by 7"
   ]
  }
 ],
 "metadata": {
  "kernelspec": {
   "display_name": "eda_env",
   "language": "python",
   "name": "python3"
  },
  "language_info": {
   "codemirror_mode": {
    "name": "ipython",
    "version": 3
   },
   "file_extension": ".py",
   "mimetype": "text/x-python",
   "name": "python",
   "nbconvert_exporter": "python",
   "pygments_lexer": "ipython3",
   "version": "3.10.16"
  }
 },
 "nbformat": 4,
 "nbformat_minor": 5
}
